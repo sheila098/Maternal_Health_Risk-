{
 "cells": [
  {
   "cell_type": "code",
   "execution_count": 1,
   "metadata": {},
   "outputs": [],
   "source": [
    "import pandas as pd \n",
    "import numpy as np \n"
   ]
  },
  {
   "cell_type": "code",
   "execution_count": 2,
   "metadata": {},
   "outputs": [],
   "source": [
    "Data_health=pd.read_csv(\"Maternal Health Risk Data Set.csv\")"
   ]
  },
  {
   "cell_type": "code",
   "execution_count": 3,
   "metadata": {},
   "outputs": [
    {
     "data": {
      "text/html": [
       "<div>\n",
       "<style scoped>\n",
       "    .dataframe tbody tr th:only-of-type {\n",
       "        vertical-align: middle;\n",
       "    }\n",
       "\n",
       "    .dataframe tbody tr th {\n",
       "        vertical-align: top;\n",
       "    }\n",
       "\n",
       "    .dataframe thead th {\n",
       "        text-align: right;\n",
       "    }\n",
       "</style>\n",
       "<table border=\"1\" class=\"dataframe\">\n",
       "  <thead>\n",
       "    <tr style=\"text-align: right;\">\n",
       "      <th></th>\n",
       "      <th>Age</th>\n",
       "      <th>SystolicBP</th>\n",
       "      <th>DiastolicBP</th>\n",
       "      <th>BS</th>\n",
       "      <th>BodyTemp</th>\n",
       "      <th>HeartRate</th>\n",
       "      <th>RiskLevel</th>\n",
       "    </tr>\n",
       "  </thead>\n",
       "  <tbody>\n",
       "    <tr>\n",
       "      <th>0</th>\n",
       "      <td>25</td>\n",
       "      <td>130</td>\n",
       "      <td>80</td>\n",
       "      <td>15.0</td>\n",
       "      <td>98.0</td>\n",
       "      <td>86</td>\n",
       "      <td>high risk</td>\n",
       "    </tr>\n",
       "    <tr>\n",
       "      <th>1</th>\n",
       "      <td>35</td>\n",
       "      <td>140</td>\n",
       "      <td>90</td>\n",
       "      <td>13.0</td>\n",
       "      <td>98.0</td>\n",
       "      <td>70</td>\n",
       "      <td>high risk</td>\n",
       "    </tr>\n",
       "    <tr>\n",
       "      <th>2</th>\n",
       "      <td>29</td>\n",
       "      <td>90</td>\n",
       "      <td>70</td>\n",
       "      <td>8.0</td>\n",
       "      <td>100.0</td>\n",
       "      <td>80</td>\n",
       "      <td>high risk</td>\n",
       "    </tr>\n",
       "    <tr>\n",
       "      <th>3</th>\n",
       "      <td>30</td>\n",
       "      <td>140</td>\n",
       "      <td>85</td>\n",
       "      <td>7.0</td>\n",
       "      <td>98.0</td>\n",
       "      <td>70</td>\n",
       "      <td>high risk</td>\n",
       "    </tr>\n",
       "    <tr>\n",
       "      <th>4</th>\n",
       "      <td>35</td>\n",
       "      <td>120</td>\n",
       "      <td>60</td>\n",
       "      <td>6.1</td>\n",
       "      <td>98.0</td>\n",
       "      <td>76</td>\n",
       "      <td>low risk</td>\n",
       "    </tr>\n",
       "  </tbody>\n",
       "</table>\n",
       "</div>"
      ],
      "text/plain": [
       "   Age  SystolicBP  DiastolicBP    BS  BodyTemp  HeartRate  RiskLevel\n",
       "0   25         130           80  15.0      98.0         86  high risk\n",
       "1   35         140           90  13.0      98.0         70  high risk\n",
       "2   29          90           70   8.0     100.0         80  high risk\n",
       "3   30         140           85   7.0      98.0         70  high risk\n",
       "4   35         120           60   6.1      98.0         76   low risk"
      ]
     },
     "execution_count": 3,
     "metadata": {},
     "output_type": "execute_result"
    }
   ],
   "source": [
    "Data_health.head()"
   ]
  },
  {
   "cell_type": "code",
   "execution_count": 4,
   "metadata": {},
   "outputs": [
    {
     "name": "stdout",
     "output_type": "stream",
     "text": [
      "<class 'pandas.core.frame.DataFrame'>\n",
      "RangeIndex: 1014 entries, 0 to 1013\n",
      "Data columns (total 7 columns):\n",
      " #   Column       Non-Null Count  Dtype  \n",
      "---  ------       --------------  -----  \n",
      " 0   Age          1014 non-null   int64  \n",
      " 1   SystolicBP   1014 non-null   int64  \n",
      " 2   DiastolicBP  1014 non-null   int64  \n",
      " 3   BS           1014 non-null   float64\n",
      " 4   BodyTemp     1014 non-null   float64\n",
      " 5   HeartRate    1014 non-null   int64  \n",
      " 6   RiskLevel    1014 non-null   object \n",
      "dtypes: float64(2), int64(4), object(1)\n",
      "memory usage: 55.6+ KB\n"
     ]
    }
   ],
   "source": [
    "#DATA CLEANING\n",
    "Data_health.info()\n"
   ]
  },
  {
   "cell_type": "code",
   "execution_count": 5,
   "metadata": {},
   "outputs": [
    {
     "data": {
      "text/plain": [
       "<bound method NDFrame.describe of       Age  SystolicBP  DiastolicBP    BS  BodyTemp  HeartRate  RiskLevel\n",
       "0      25         130           80  15.0      98.0         86  high risk\n",
       "1      35         140           90  13.0      98.0         70  high risk\n",
       "2      29          90           70   8.0     100.0         80  high risk\n",
       "3      30         140           85   7.0      98.0         70  high risk\n",
       "4      35         120           60   6.1      98.0         76   low risk\n",
       "...   ...         ...          ...   ...       ...        ...        ...\n",
       "1009   22         120           60  15.0      98.0         80  high risk\n",
       "1010   55         120           90  18.0      98.0         60  high risk\n",
       "1011   35          85           60  19.0      98.0         86  high risk\n",
       "1012   43         120           90  18.0      98.0         70  high risk\n",
       "1013   32         120           65   6.0     101.0         76   mid risk\n",
       "\n",
       "[1014 rows x 7 columns]>"
      ]
     },
     "execution_count": 5,
     "metadata": {},
     "output_type": "execute_result"
    }
   ],
   "source": [
    "Data_health.describe"
   ]
  },
  {
   "cell_type": "code",
   "execution_count": 6,
   "metadata": {},
   "outputs": [],
   "source": [
    "duplicated=Data_health[Data_health.duplicated()]"
   ]
  },
  {
   "cell_type": "code",
   "execution_count": 7,
   "metadata": {},
   "outputs": [
    {
     "data": {
      "text/html": [
       "<div>\n",
       "<style scoped>\n",
       "    .dataframe tbody tr th:only-of-type {\n",
       "        vertical-align: middle;\n",
       "    }\n",
       "\n",
       "    .dataframe tbody tr th {\n",
       "        vertical-align: top;\n",
       "    }\n",
       "\n",
       "    .dataframe thead th {\n",
       "        text-align: right;\n",
       "    }\n",
       "</style>\n",
       "<table border=\"1\" class=\"dataframe\">\n",
       "  <thead>\n",
       "    <tr style=\"text-align: right;\">\n",
       "      <th></th>\n",
       "      <th>Age</th>\n",
       "      <th>SystolicBP</th>\n",
       "      <th>DiastolicBP</th>\n",
       "      <th>BS</th>\n",
       "      <th>BodyTemp</th>\n",
       "      <th>HeartRate</th>\n",
       "      <th>RiskLevel</th>\n",
       "    </tr>\n",
       "  </thead>\n",
       "  <tbody>\n",
       "    <tr>\n",
       "      <th>67</th>\n",
       "      <td>19</td>\n",
       "      <td>120</td>\n",
       "      <td>80</td>\n",
       "      <td>7.0</td>\n",
       "      <td>98.0</td>\n",
       "      <td>70</td>\n",
       "      <td>mid risk</td>\n",
       "    </tr>\n",
       "    <tr>\n",
       "      <th>72</th>\n",
       "      <td>19</td>\n",
       "      <td>120</td>\n",
       "      <td>80</td>\n",
       "      <td>7.0</td>\n",
       "      <td>98.0</td>\n",
       "      <td>70</td>\n",
       "      <td>mid risk</td>\n",
       "    </tr>\n",
       "    <tr>\n",
       "      <th>97</th>\n",
       "      <td>19</td>\n",
       "      <td>120</td>\n",
       "      <td>80</td>\n",
       "      <td>7.0</td>\n",
       "      <td>98.0</td>\n",
       "      <td>70</td>\n",
       "      <td>mid risk</td>\n",
       "    </tr>\n",
       "    <tr>\n",
       "      <th>106</th>\n",
       "      <td>50</td>\n",
       "      <td>140</td>\n",
       "      <td>90</td>\n",
       "      <td>15.0</td>\n",
       "      <td>98.0</td>\n",
       "      <td>90</td>\n",
       "      <td>high risk</td>\n",
       "    </tr>\n",
       "    <tr>\n",
       "      <th>107</th>\n",
       "      <td>25</td>\n",
       "      <td>140</td>\n",
       "      <td>100</td>\n",
       "      <td>6.8</td>\n",
       "      <td>98.0</td>\n",
       "      <td>80</td>\n",
       "      <td>high risk</td>\n",
       "    </tr>\n",
       "    <tr>\n",
       "      <th>...</th>\n",
       "      <td>...</td>\n",
       "      <td>...</td>\n",
       "      <td>...</td>\n",
       "      <td>...</td>\n",
       "      <td>...</td>\n",
       "      <td>...</td>\n",
       "      <td>...</td>\n",
       "    </tr>\n",
       "    <tr>\n",
       "      <th>1009</th>\n",
       "      <td>22</td>\n",
       "      <td>120</td>\n",
       "      <td>60</td>\n",
       "      <td>15.0</td>\n",
       "      <td>98.0</td>\n",
       "      <td>80</td>\n",
       "      <td>high risk</td>\n",
       "    </tr>\n",
       "    <tr>\n",
       "      <th>1010</th>\n",
       "      <td>55</td>\n",
       "      <td>120</td>\n",
       "      <td>90</td>\n",
       "      <td>18.0</td>\n",
       "      <td>98.0</td>\n",
       "      <td>60</td>\n",
       "      <td>high risk</td>\n",
       "    </tr>\n",
       "    <tr>\n",
       "      <th>1011</th>\n",
       "      <td>35</td>\n",
       "      <td>85</td>\n",
       "      <td>60</td>\n",
       "      <td>19.0</td>\n",
       "      <td>98.0</td>\n",
       "      <td>86</td>\n",
       "      <td>high risk</td>\n",
       "    </tr>\n",
       "    <tr>\n",
       "      <th>1012</th>\n",
       "      <td>43</td>\n",
       "      <td>120</td>\n",
       "      <td>90</td>\n",
       "      <td>18.0</td>\n",
       "      <td>98.0</td>\n",
       "      <td>70</td>\n",
       "      <td>high risk</td>\n",
       "    </tr>\n",
       "    <tr>\n",
       "      <th>1013</th>\n",
       "      <td>32</td>\n",
       "      <td>120</td>\n",
       "      <td>65</td>\n",
       "      <td>6.0</td>\n",
       "      <td>101.0</td>\n",
       "      <td>76</td>\n",
       "      <td>mid risk</td>\n",
       "    </tr>\n",
       "  </tbody>\n",
       "</table>\n",
       "<p>562 rows × 7 columns</p>\n",
       "</div>"
      ],
      "text/plain": [
       "      Age  SystolicBP  DiastolicBP    BS  BodyTemp  HeartRate  RiskLevel\n",
       "67     19         120           80   7.0      98.0         70   mid risk\n",
       "72     19         120           80   7.0      98.0         70   mid risk\n",
       "97     19         120           80   7.0      98.0         70   mid risk\n",
       "106    50         140           90  15.0      98.0         90  high risk\n",
       "107    25         140          100   6.8      98.0         80  high risk\n",
       "...   ...         ...          ...   ...       ...        ...        ...\n",
       "1009   22         120           60  15.0      98.0         80  high risk\n",
       "1010   55         120           90  18.0      98.0         60  high risk\n",
       "1011   35          85           60  19.0      98.0         86  high risk\n",
       "1012   43         120           90  18.0      98.0         70  high risk\n",
       "1013   32         120           65   6.0     101.0         76   mid risk\n",
       "\n",
       "[562 rows x 7 columns]"
      ]
     },
     "execution_count": 7,
     "metadata": {},
     "output_type": "execute_result"
    }
   ],
   "source": [
    "#check the duplicated rows \n",
    "duplicated"
   ]
  },
  {
   "cell_type": "code",
   "execution_count": 8,
   "metadata": {},
   "outputs": [],
   "source": [
    "# get rid of duplicated rows \n",
    "Data_health.drop_duplicates(inplace =True)\n"
   ]
  },
  {
   "cell_type": "code",
   "execution_count": 9,
   "metadata": {},
   "outputs": [
    {
     "data": {
      "text/plain": [
       "0"
      ]
     },
     "execution_count": 9,
     "metadata": {},
     "output_type": "execute_result"
    }
   ],
   "source": [
    "Data_health.duplicated().sum()"
   ]
  },
  {
   "cell_type": "code",
   "execution_count": 10,
   "metadata": {},
   "outputs": [
    {
     "data": {
      "text/plain": [
       "Age            0\n",
       "SystolicBP     0\n",
       "DiastolicBP    0\n",
       "BS             0\n",
       "BodyTemp       0\n",
       "HeartRate      0\n",
       "RiskLevel      0\n",
       "dtype: int64"
      ]
     },
     "execution_count": 10,
     "metadata": {},
     "output_type": "execute_result"
    }
   ],
   "source": [
    "#check for missing values\n",
    "Data_health.isnull().sum()"
   ]
  },
  {
   "cell_type": "markdown",
   "metadata": {},
   "source": [
    "# data exploration\n"
   ]
  },
  {
   "cell_type": "code",
   "execution_count": 11,
   "metadata": {},
   "outputs": [],
   "source": [
    "import seaborn as sns\n",
    "import matplotlib.pyplot as plt"
   ]
  },
  {
   "cell_type": "markdown",
   "metadata": {},
   "source": [
    "# what is the number of  women who are at high risk,mid risk and low risk"
   ]
  },
  {
   "cell_type": "code",
   "execution_count": 12,
   "metadata": {},
   "outputs": [
    {
     "data": {
      "image/png": "[encoded data removed]",
      "text/plain": [
       "<Figure size 432x288 with 1 Axes>"
      ]
     },
     "metadata": {
      "needs_background": "light"
     },
     "output_type": "display_data"
    }
   ],
   "source": [
    "color=sns.color_palette()[0]\n",
    "order=Data_health[\"RiskLevel\"].value_counts().index\n",
    "countplot=sns.countplot(data=Data_health,x=\"RiskLevel\",order=order,color=color)\n",
    "\n"
   ]
  },
  {
   "cell_type": "markdown",
   "metadata": {},
   "source": [
    "most of the women are at a low risk of maternal mortality"
   ]
  },
  {
   "cell_type": "markdown",
   "metadata": {},
   "source": [
    "# test hypothesis most women above the age of 40 are at a high risk level"
   ]
  },
  {
   "cell_type": "markdown",
   "metadata": {},
   "source": [
    "null hypothesis: all women above the age of 40 are high risk level\n",
    "\n",
    "alternative hypothesis: not all women above the age of 40 are a high risk level"
   ]
  },
  {
   "cell_type": "code",
   "execution_count": 13,
   "metadata": {},
   "outputs": [
    {
     "name": "stdout",
     "output_type": "stream",
     "text": [
      "Chi-squared test statistic: 182.13728244385157\n",
      "P-value: 5.250600036368517e-07\n",
      "Degrees of Freedom: 98\n",
      "Reject the null hypothesis: Not all women above the age of 40 are at high risk level.\n"
     ]
    }
   ],
   "source": [
    "#use chi square of good fit\n",
    "from scipy.stats import chi2_contingency\n",
    "# Create a contingency table (cross-tabulation) of age and risklevel\n",
    "contingency_table = pd.crosstab(Data_health[\"Age\"], Data_health['RiskLevel'])\n",
    "# Perform chi-squared test\n",
    "chi2_stat, p_val, dof, expected = chi2_contingency(contingency_table)\n",
    "# Output the test statistic, p-value, and degrees of freedom\n",
    "print(\"Chi-squared test statistic:\", chi2_stat)\n",
    "print(\"P-value:\", p_val)\n",
    "print(\"Degrees of Freedom:\", dof)\n",
    "\n",
    "# Compare p-value with the significance level (e.g., 0.05) to make a decision about the hypotheses\n",
    "if p_val < 0.05:\n",
    "    print(\"Reject the null hypothesis: Not all women above the age of 40 are at high risk level.\")\n",
    "else:\n",
    "    print(\"Fail to reject the null hypothesis: All women above the age of 40 are assumed to be at high risk level.\")"
   ]
  },
  {
   "cell_type": "markdown",
   "metadata": {},
   "source": [
    "# what are the causes of the high risk level of the maternal health risk"
   ]
  },
  {
   "cell_type": "code",
   "execution_count": 14,
   "metadata": {},
   "outputs": [
    {
     "data": {
      "text/plain": [
       "low risk     234\n",
       "high risk    112\n",
       "mid risk     106\n",
       "Name: RiskLevel, dtype: int64"
      ]
     },
     "execution_count": 14,
     "metadata": {},
     "output_type": "execute_result"
    }
   ],
   "source": [
    "Data_health[\"RiskLevel\"].value_counts()"
   ]
  },
  {
   "cell_type": "code",
   "execution_count": 15,
   "metadata": {},
   "outputs": [
    {
     "name": "stdout",
     "output_type": "stream",
     "text": [
      "Requirement already satisfied: mord in c:\\users\\sa\\anaconda3\\lib\\site-packages (0.7)\n",
      "Accuracy: 0.6263736263736264\n",
      "[2 0 0 0 0 0 2 0 0 0 2 0 0 0 0 0 0 0 0 0 0 0 2 2 2 0 0 0 2 0 0 2 0 2 0 0 0\n",
      " 0 2 0 0 0 0 0 0 2 0 0 0 0 0 0 0 0 0 0 0 0 0 0 0 2 0 2 0 0 0 0 0 0 2 0 0 0\n",
      " 2 0 0 0 0 2 2 0 0 0 0 0 0 0 0 0 0]\n"
     ]
    }
   ],
   "source": [
    "# use ordinal logistics regression\n",
    "!pip install mord\n",
    "from mord import LogisticIT\n",
    "from sklearn.model_selection import train_test_split\n",
    "from sklearn.metrics import accuracy_score\n",
    "# Encode the ordinal target variable\n",
    "target_map = {'high risk': 2, 'mid risk': 1, 'low risk': 0}\n",
    "Data_health['risklevel_encoded'] = Data_health['RiskLevel'].map(target_map)\n",
    "# Define the independent variables\n",
    "X = Data_health[['Age','SystolicBP','DiastolicBP','BS','BodyTemp','HeartRate']]\n",
    "# Define the dependent variable\n",
    "y = Data_health['risklevel_encoded']\n",
    "# Split the data into training and testing sets\n",
    "X_train, X_test, y_train, y_test = train_test_split(X, y, test_size=0.2, random_state=42)\n",
    "\n",
    "# Initialize and fit the ordinal logistic regression model\n",
    "model = LogisticIT()\n",
    "model.fit(X_train, y_train)\n",
    "\n",
    "# Predict using the test set\n",
    "predictions = model.predict(X_test)\n",
    "\n",
    "# Calculate accuracy (or other relevant metrics) for the model\n",
    "accuracy = accuracy_score(y_test, predictions)\n",
    "print(\"Accuracy:\", accuracy)\n",
    "print(predictions)"
   ]
  },
  {
   "cell_type": "code",
   "execution_count": 17,
   "metadata": {},
   "outputs": [
    {
     "data": {
      "text/html": [
       "<div>\n",
       "<style scoped>\n",
       "    .dataframe tbody tr th:only-of-type {\n",
       "        vertical-align: middle;\n",
       "    }\n",
       "\n",
       "    .dataframe tbody tr th {\n",
       "        vertical-align: top;\n",
       "    }\n",
       "\n",
       "    .dataframe thead th {\n",
       "        text-align: right;\n",
       "    }\n",
       "</style>\n",
       "<table border=\"1\" class=\"dataframe\">\n",
       "  <thead>\n",
       "    <tr style=\"text-align: right;\">\n",
       "      <th></th>\n",
       "      <th>Age</th>\n",
       "      <th>SystolicBP</th>\n",
       "      <th>DiastolicBP</th>\n",
       "      <th>BS</th>\n",
       "      <th>BodyTemp</th>\n",
       "      <th>HeartRate</th>\n",
       "      <th>risklevel_encoded</th>\n",
       "    </tr>\n",
       "  </thead>\n",
       "  <tbody>\n",
       "    <tr>\n",
       "      <th>Age</th>\n",
       "      <td>1.000000</td>\n",
       "      <td>0.375931</td>\n",
       "      <td>0.347846</td>\n",
       "      <td>0.376616</td>\n",
       "      <td>-0.188843</td>\n",
       "      <td>0.077407</td>\n",
       "      <td>0.183010</td>\n",
       "    </tr>\n",
       "    <tr>\n",
       "      <th>SystolicBP</th>\n",
       "      <td>0.375931</td>\n",
       "      <td>1.000000</td>\n",
       "      <td>0.790002</td>\n",
       "      <td>0.347534</td>\n",
       "      <td>-0.207267</td>\n",
       "      <td>-0.006088</td>\n",
       "      <td>0.327365</td>\n",
       "    </tr>\n",
       "    <tr>\n",
       "      <th>DiastolicBP</th>\n",
       "      <td>0.347846</td>\n",
       "      <td>0.790002</td>\n",
       "      <td>1.000000</td>\n",
       "      <td>0.300423</td>\n",
       "      <td>-0.201992</td>\n",
       "      <td>-0.016470</td>\n",
       "      <td>0.254239</td>\n",
       "    </tr>\n",
       "    <tr>\n",
       "      <th>BS</th>\n",
       "      <td>0.376616</td>\n",
       "      <td>0.347534</td>\n",
       "      <td>0.300423</td>\n",
       "      <td>1.000000</td>\n",
       "      <td>-0.042511</td>\n",
       "      <td>0.135605</td>\n",
       "      <td>0.548888</td>\n",
       "    </tr>\n",
       "    <tr>\n",
       "      <th>BodyTemp</th>\n",
       "      <td>-0.188843</td>\n",
       "      <td>-0.207267</td>\n",
       "      <td>-0.201992</td>\n",
       "      <td>-0.042511</td>\n",
       "      <td>1.000000</td>\n",
       "      <td>0.087262</td>\n",
       "      <td>0.259701</td>\n",
       "    </tr>\n",
       "    <tr>\n",
       "      <th>HeartRate</th>\n",
       "      <td>0.077407</td>\n",
       "      <td>-0.006088</td>\n",
       "      <td>-0.016470</td>\n",
       "      <td>0.135605</td>\n",
       "      <td>0.087262</td>\n",
       "      <td>1.000000</td>\n",
       "      <td>0.183289</td>\n",
       "    </tr>\n",
       "    <tr>\n",
       "      <th>risklevel_encoded</th>\n",
       "      <td>0.183010</td>\n",
       "      <td>0.327365</td>\n",
       "      <td>0.254239</td>\n",
       "      <td>0.548888</td>\n",
       "      <td>0.259701</td>\n",
       "      <td>0.183289</td>\n",
       "      <td>1.000000</td>\n",
       "    </tr>\n",
       "  </tbody>\n",
       "</table>\n",
       "</div>"
      ],
      "text/plain": [
       "                        Age  SystolicBP  DiastolicBP        BS  BodyTemp  \\\n",
       "Age                1.000000    0.375931     0.347846  0.376616 -0.188843   \n",
       "SystolicBP         0.375931    1.000000     0.790002  0.347534 -0.207267   \n",
       "DiastolicBP        0.347846    0.790002     1.000000  0.300423 -0.201992   \n",
       "BS                 0.376616    0.347534     0.300423  1.000000 -0.042511   \n",
       "BodyTemp          -0.188843   -0.207267    -0.201992 -0.042511  1.000000   \n",
       "HeartRate          0.077407   -0.006088    -0.016470  0.135605  0.087262   \n",
       "risklevel_encoded  0.183010    0.327365     0.254239  0.548888  0.259701   \n",
       "\n",
       "                   HeartRate  risklevel_encoded  \n",
       "Age                 0.077407           0.183010  \n",
       "SystolicBP         -0.006088           0.327365  \n",
       "DiastolicBP        -0.016470           0.254239  \n",
       "BS                  0.135605           0.548888  \n",
       "BodyTemp            0.087262           0.259701  \n",
       "HeartRate           1.000000           0.183289  \n",
       "risklevel_encoded   0.183289           1.000000  "
      ]
     },
     "execution_count": 17,
     "metadata": {},
     "output_type": "execute_result"
    }
   ],
   "source": [
    "#RELATIONSHIP BETWEEN THE INDEPENDENT VARIABLES \n",
    "Data_health.corr()\n"
   ]
  },
  {
   "cell_type": "markdown",
   "metadata": {},
   "source": [
    "# data distribution "
   ]
  },
  {
   "cell_type": "code",
   "execution_count": 20,
   "metadata": {},
   "outputs": [
    {
     "data": {
      "text/plain": [
       "Text(0.5, 1.0, 'Distribution by HeartRate ')"
      ]
     },
     "execution_count": 20,
     "metadata": {},
     "output_type": "execute_result"
    },
    {
     "data": {
      "image/png": "[encoded data removed]",
      "text/plain": [
       "<Figure size 1080x1440 with 4 Axes>"
      ]
     },
     "metadata": {
      "needs_background": "light"
     },
     "output_type": "display_data"
    }
   ],
   "source": [
    "plt.figure(figsize=[15,20])\n",
    " \n",
    "plt.subplot(2,2,1)\n",
    "plt.hist(Data_health['Age'],bins=20,color='b')\n",
    "plt.xlabel('age')\n",
    "plt.title('Distribution by Age')\n",
    " \n",
    "plt.subplot(2,2,2)\n",
    "plt.hist(Data_health['BS'],bins=20,color='m')\n",
    "plt.xlabel('BS')\n",
    "plt.title('Distribution by BS')\n",
    "\n",
    "plt.subplot(2,2,3)\n",
    "plt.hist(Data_health['BodyTemp'],bins=20,color='m')\n",
    "plt.xlabel('BodyTemp')\n",
    "plt.title('Distribution by BodyTemp')\n",
    "\n",
    "plt.subplot(2,2,4)\n",
    "plt.hist(Data_health['HeartRate'],bins=20,color='m')\n",
    "plt.xlabel('HeartRate')\n",
    "plt.title('Distribution by HeartRate ')"
   ]
  },
  {
   "cell_type": "code",
   "execution_count": 22,
   "metadata": {},
   "outputs": [
    {
     "name": "stdout",
     "output_type": "stream",
     "text": [
      "Requirement already up-to-date: statsmodels in c:\\users\\sa\\anaconda3\\lib\\site-packages (0.14.0)\n"
     ]
    },
    {
     "name": "stderr",
     "output_type": "stream",
     "text": [
      "WARNING: Retrying (Retry(total=4, connect=None, read=None, redirect=None, status=None)) after connection broken by 'ReadTimeoutError(\"HTTPSConnectionPool(host='pypi.org', port=443): Read timed out. (read timeout=15)\")': /simple/statsmodels/\n"
     ]
    },
    {
     "name": "stdout",
     "output_type": "stream",
     "text": [
      "Optimization terminated successfully.\n",
      "         Current function value: 0.771288\n",
      "         Iterations: 35\n",
      "         Function evaluations: 39\n",
      "         Gradient evaluations: 39\n"
     ]
    },
    {
     "data": {
      "text/html": [
       "<table class=\"simpletable\">\n",
       "<caption>OrderedModel Results</caption>\n",
       "<tr>\n",
       "  <th>Dep. Variable:</th>     <td>risklevel_encoded</td> <th>  Log-Likelihood:    </th> <td> -348.62</td>\n",
       "</tr>\n",
       "<tr>\n",
       "  <th>Model:</th>               <td>OrderedModel</td>    <th>  AIC:               </th> <td>   711.2</td>\n",
       "</tr>\n",
       "<tr>\n",
       "  <th>Method:</th>           <td>Maximum Likelihood</td> <th>  BIC:               </th> <td>   740.0</td>\n",
       "</tr>\n",
       "<tr>\n",
       "  <th>Date:</th>              <td>Sun, 22 Oct 2023</td>  <th>                     </th>     <td> </td>   \n",
       "</tr>\n",
       "<tr>\n",
       "  <th>Time:</th>                  <td>19:47:24</td>      <th>                     </th>     <td> </td>   \n",
       "</tr>\n",
       "<tr>\n",
       "  <th>No. Observations:</th>       <td>   452</td>       <th>                     </th>     <td> </td>   \n",
       "</tr>\n",
       "<tr>\n",
       "  <th>Df Residuals:</th>           <td>   445</td>       <th>                     </th>     <td> </td>   \n",
       "</tr>\n",
       "<tr>\n",
       "  <th>Df Model:</th>               <td>     5</td>       <th>                     </th>     <td> </td>   \n",
       "</tr>\n",
       "</table>\n",
       "<table class=\"simpletable\">\n",
       "<tr>\n",
       "       <td></td>         <th>coef</th>     <th>std err</th>      <th>z</th>      <th>P>|z|</th>  <th>[0.025</th>    <th>0.975]</th>  \n",
       "</tr>\n",
       "<tr>\n",
       "  <th>Age</th>        <td>   -0.0111</td> <td>    0.009</td> <td>   -1.243</td> <td> 0.214</td> <td>   -0.028</td> <td>    0.006</td>\n",
       "</tr>\n",
       "<tr>\n",
       "  <th>SystolicBP</th> <td>    0.0404</td> <td>    0.007</td> <td>    5.608</td> <td> 0.000</td> <td>    0.026</td> <td>    0.055</td>\n",
       "</tr>\n",
       "<tr>\n",
       "  <th>BS</th>         <td>    0.4757</td> <td>    0.059</td> <td>    8.038</td> <td> 0.000</td> <td>    0.360</td> <td>    0.592</td>\n",
       "</tr>\n",
       "<tr>\n",
       "  <th>BodyTemp</th>   <td>    0.5262</td> <td>    0.077</td> <td>    6.814</td> <td> 0.000</td> <td>    0.375</td> <td>    0.678</td>\n",
       "</tr>\n",
       "<tr>\n",
       "  <th>HeartRate</th>  <td>    0.0335</td> <td>    0.014</td> <td>    2.428</td> <td> 0.015</td> <td>    0.006</td> <td>    0.060</td>\n",
       "</tr>\n",
       "<tr>\n",
       "  <th>0/1</th>        <td>   62.3600</td> <td>    7.924</td> <td>    7.870</td> <td> 0.000</td> <td>   46.830</td> <td>   77.890</td>\n",
       "</tr>\n",
       "<tr>\n",
       "  <th>1/2</th>        <td>    0.5063</td> <td>    0.091</td> <td>    5.565</td> <td> 0.000</td> <td>    0.328</td> <td>    0.685</td>\n",
       "</tr>\n",
       "</table>"
      ],
      "text/latex": [
       "\\begin{center}\n",
       "\\begin{tabular}{lclc}\n",
       "\\toprule\n",
       "\\textbf{Dep. Variable:}    & risklevel\\_encoded & \\textbf{  Log-Likelihood:    } &   -348.62   \\\\\n",
       "\\textbf{Model:}            &    OrderedModel    & \\textbf{  AIC:               } &     711.2   \\\\\n",
       "\\textbf{Method:}           & Maximum Likelihood & \\textbf{  BIC:               } &     740.0   \\\\\n",
       "\\textbf{Date:}             &  Sun, 22 Oct 2023  & \\textbf{                     } &             \\\\\n",
       "\\textbf{Time:}             &      19:47:24      & \\textbf{                     } &             \\\\\n",
       "\\textbf{No. Observations:} &          452       & \\textbf{                     } &             \\\\\n",
       "\\textbf{Df Residuals:}     &          445       & \\textbf{                     } &             \\\\\n",
       "\\textbf{Df Model:}         &            5       & \\textbf{                     } &             \\\\\n",
       "\\bottomrule\n",
       "\\end{tabular}\n",
       "\\begin{tabular}{lcccccc}\n",
       "                    & \\textbf{coef} & \\textbf{std err} & \\textbf{z} & \\textbf{P$> |$z$|$} & \\textbf{[0.025} & \\textbf{0.975]}  \\\\\n",
       "\\midrule\n",
       "\\textbf{Age}        &      -0.0111  &        0.009     &    -1.243  &         0.214        &       -0.028    &        0.006     \\\\\n",
       "\\textbf{SystolicBP} &       0.0404  &        0.007     &     5.608  &         0.000        &        0.026    &        0.055     \\\\\n",
       "\\textbf{BS}         &       0.4757  &        0.059     &     8.038  &         0.000        &        0.360    &        0.592     \\\\\n",
       "\\textbf{BodyTemp}   &       0.5262  &        0.077     &     6.814  &         0.000        &        0.375    &        0.678     \\\\\n",
       "\\textbf{HeartRate}  &       0.0335  &        0.014     &     2.428  &         0.015        &        0.006    &        0.060     \\\\\n",
       "\\textbf{0/1}        &      62.3600  &        7.924     &     7.870  &         0.000        &       46.830    &       77.890     \\\\\n",
       "\\textbf{1/2}        &       0.5063  &        0.091     &     5.565  &         0.000        &        0.328    &        0.685     \\\\\n",
       "\\bottomrule\n",
       "\\end{tabular}\n",
       "%\\caption{OrderedModel Results}\n",
       "\\end{center}"
      ],
      "text/plain": [
       "<class 'statsmodels.iolib.summary.Summary'>\n",
       "\"\"\"\n",
       "                             OrderedModel Results                             \n",
       "==============================================================================\n",
       "Dep. Variable:      risklevel_encoded   Log-Likelihood:                -348.62\n",
       "Model:                   OrderedModel   AIC:                             711.2\n",
       "Method:            Maximum Likelihood   BIC:                             740.0\n",
       "Date:                Sun, 22 Oct 2023                                         \n",
       "Time:                        19:47:24                                         \n",
       "No. Observations:                 452                                         \n",
       "Df Residuals:                     445                                         \n",
       "Df Model:                           5                                         \n",
       "==============================================================================\n",
       "                 coef    std err          z      P>|z|      [0.025      0.975]\n",
       "------------------------------------------------------------------------------\n",
       "Age           -0.0111      0.009     -1.243      0.214      -0.028       0.006\n",
       "SystolicBP     0.0404      0.007      5.608      0.000       0.026       0.055\n",
       "BS             0.4757      0.059      8.038      0.000       0.360       0.592\n",
       "BodyTemp       0.5262      0.077      6.814      0.000       0.375       0.678\n",
       "HeartRate      0.0335      0.014      2.428      0.015       0.006       0.060\n",
       "0/1           62.3600      7.924      7.870      0.000      46.830      77.890\n",
       "1/2            0.5063      0.091      5.565      0.000       0.328       0.685\n",
       "==============================================================================\n",
       "\"\"\""
      ]
     },
     "execution_count": 22,
     "metadata": {},
     "output_type": "execute_result"
    }
   ],
   "source": [
    "!pip install --upgrade --no-deps statsmodels \n",
    "from statsmodels.miscmodels.ordinal_model import OrderedModel\n",
    "model_prob =OrderedModel(Data_health['risklevel_encoded'],Data_health[['Age', 'SystolicBP','BS','BodyTemp','HeartRate']],distr='logit')\n",
    "result_prob = model_prob.fit(method='bfgs')\n",
    "result_prob.summary()"
   ]
  },
  {
   "cell_type": "code",
   "execution_count": null,
   "metadata": {},
   "outputs": [],
   "source": []
  }
 ],
 "metadata": {
  "kernelspec": {
   "display_name": "Python 3",
   "language": "python",
   "name": "python3"
  },
  "language_info": {
   "codemirror_mode": {
    "name": "ipython",
    "version": 3
   },
   "file_extension": ".py",
   "mimetype": "text/x-python",
   "name": "python",
   "nbconvert_exporter": "python",
   "pygments_lexer": "ipython3",
   "version": "3.8.5"
  }
 },
 "nbformat": 4,
 "nbformat_minor": 4
}
